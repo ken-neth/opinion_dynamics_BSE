{
 "cells": [
  {
   "cell_type": "markdown",
   "metadata": {},
   "source": [
    "# data analysis"
   ]
  },
  {
   "cell_type": "code",
   "execution_count": 1,
   "metadata": {
    "collapsed": true
   },
   "outputs": [],
   "source": [
    "import csv\n",
    "from matplotlib.pyplot import *\n"
   ]
  },
  {
   "cell_type": "code",
   "execution_count": 50,
   "metadata": {},
   "outputs": [],
   "source": [
    "transactions = []\n",
    "\n",
    "with open('transactions.csv') as csv_file:\n",
    "    readCSV = csv.reader(csv_file, delimiter=',')\n",
    "    for row in readCSV:\n",
    "        transactions.append([float(row[0]), float(row[1])])"
   ]
  },
  {
   "cell_type": "code",
   "execution_count": 53,
   "metadata": {},
   "outputs": [
    {
     "data": {
      "image/png": "[encoded data removed]",
      "text/plain": [
       "<matplotlib.figure.Figure at 0x108560cf8>"
      ]
     },
     "metadata": {},
     "output_type": "display_data"
    }
   ],
   "source": [
    "time = np.array(transactions)[:,0]\n",
    "price = np.array(transactions)[:,1]\n",
    "\n",
    "\n",
    "# nums = np.arange(0, 600, 100)\n",
    "\n",
    "\n",
    "figure(1, figsize=(10,10))\n",
    "xlabel('Time')\n",
    "ylabel('Price')\n",
    "title(\"31 GVWY sellers 31 GVWY buyers; 0-200 buy and sell range; timemode=periodic\")\n",
    "p1 = scatter(time, price, marker='x')\n",
    "show()"
   ]
  },
  {
   "cell_type": "code",
   "execution_count": 54,
   "metadata": {},
   "outputs": [
    {
     "name": "stdout",
     "output_type": "stream",
     "text": [
      "['trial0001', ' 000030', ' GVWY', ' 133', ' 62', ' 2.145161', ' 1', ' 127', ' ']\n",
      "['trial0001', ' 000030', ' GVWY', ' 192', ' 62', ' 3.096774', ' 1', ' 153', ' ']\n",
      "['trial0001', ' 000030', ' GVWY', ' 192', ' 62', ' 3.096774', ' 1', ' 153', ' ']\n",
      "['trial0001', ' 000030', ' GVWY', ' 291', ' 62', ' 4.693548', ' 1', ' 153', ' ']\n",
      "['trial0001', ' 000030', ' GVWY', ' 304', ' 62', ' 4.903226', ' 1', ' 180', ' ']\n",
      "['trial0001', ' 000030', ' GVWY', ' 330', ' 62', ' 5.322581', ' 1', ' 87', ' ']\n",
      "['trial0001', ' 000030', ' GVWY', ' 330', ' 62', ' 5.322581', ' 1', ' 180', ' ']\n",
      "['trial0001', ' 000030', ' GVWY', ' 396', ' 62', ' 6.387097', ' 7', ' 180', ' ']\n",
      "['trial0001', ' 000030', ' GVWY', ' 409', ' 62', ' 6.596774', ' 7', ' N', ' ']\n",
      "['trial0001', ' 000030', ' GVWY', ' 469', ' 62', ' 7.564516', ' 7', ' 107', ' ']\n",
      "['trial0001', ' 000030', ' GVWY', ' 515', ' 62', ' 8.306452', ' 7', ' 107', ' ']\n",
      "['trial0001', ' 000030', ' GVWY', ' 601', ' 62', ' 9.693548', ' 7', ' 107', ' ']\n",
      "['trial0001', ' 000030', ' GVWY', ' 654', ' 62', ' 10.548387', ' 7', ' N', ' ']\n",
      "['trial0001', ' 000030', ' GVWY', ' 721', ' 62', ' 11.629032', ' 127', ' N', ' ']\n",
      "['trial0001', ' 000030', ' GVWY', ' 761', ' 62', ' 12.274194', ' 127', ' N', ' ']\n",
      "['trial0001', ' 000030', ' GVWY', ' 828', ' 62', ' 13.354839', ' 7', ' N', ' ']\n",
      "['trial0001', ' 000030', ' GVWY', ' 868', ' 62', ' 14.000000', ' 7', ' 166', ' ']\n",
      "['trial0001', ' 000030', ' GVWY', ' 888', ' 62', ' 14.322581', ' 7', ' 166', ' ']\n",
      "['trial0001', ' 000030', ' GVWY', ' 888', ' 62', ' 14.322581', ' 7', ' 166', ' ']\n",
      "['trial0001', ' 000030', ' GVWY', ' 895', ' 62', ' 14.435484', ' 120', ' 166', ' ']\n",
      "['trial0001', ' 000031', ' GVWY', ' 902', ' 62', ' 14.548387', ' 60', ' 166', ' ']\n",
      "['trial0001', ' 000031', ' GVWY', ' 942', ' 62', ' 15.193548', ' 60', ' 93', ' ']\n",
      "['trial0001', ' 000031', ' GVWY', ' 942', ' 62', ' 15.193548', ' 60', ' 100', ' ']\n",
      "['trial0001', ' 000032', ' GVWY', ' 988', ' 62', ' 15.935484', ' 60', ' 120', ' ']\n",
      "['trial0001', ' 000060', ' GVWY', ' 1008', ' 62', ' 16.258065', ' 146', ' N', ' ']\n",
      "['trial0001', ' 000060', ' GVWY', ' 1081', ' 62', ' 17.435484', ' 146', ' N', ' ']\n",
      "['trial0001', ' 000060', ' GVWY', ' 1167', ' 62', ' 18.822581', ' 140', ' 153', ' ']\n",
      "['trial0001', ' 000060', ' GVWY', ' 1187', ' 62', ' 19.145161', ' 120', ' 153', ' ']\n",
      "['trial0001', ' 000060', ' GVWY', ' 1280', ' 62', ' 20.645161', ' 100', ' 153', ' ']\n",
      "['trial0001', ' 000060', ' GVWY', ' 1373', ' 62', ' 22.145161', ' 87', ' 153', ' ']\n",
      "['trial0001', ' 000060', ' GVWY', ' 1459', ' 62', ' 23.532258', ' 87', ' 153', ' ']\n",
      "['trial0001', ' 000060', ' GVWY', ' 1479', ' 62', ' 23.854839', ' 87', ' 180', ' ']\n",
      "['trial0001', ' 000060', ' GVWY', ' 1506', ' 62', ' 24.290323', ' 87', ' 180', ' ']\n",
      "['trial0001', ' 000060', ' GVWY', ' 1573', ' 62', ' 25.370968', ' 40', ' 180', ' ']\n",
      "['trial0001', ' 000060', ' GVWY', ' 1593', ' 62', ' 25.693548', ' 40', ' 186', ' ']\n",
      "['trial0001', ' 000060', ' GVWY', ' 1646', ' 62', ' 26.548387', ' 40', ' 127', ' ']\n",
      "['trial0001', ' 000060', ' GVWY', ' 1652', ' 62', ' 26.645161', ' 34', ' 127', ' ']\n",
      "['trial0001', ' 000060', ' GVWY', ' 1658', ' 62', ' 26.741935', ' 34', ' 146', ' ']\n",
      "['trial0001', ' 000060', ' GVWY', ' 1665', ' 62', ' 26.854839', ' 34', ' 80', ' ']\n",
      "['trial0001', ' 000060', ' GVWY', ' 1765', ' 62', ' 28.467742', ' 34', ' 146', ' ']\n",
      "['trial0001', ' 000061', ' GVWY', ' 1832', ' 62', ' 29.548387', ' 34', ' 140', ' ']\n",
      "['trial0001', ' 000061', ' GVWY', ' 1832', ' 62', ' 29.548387', ' 47', ' 113', ' ']\n",
      "['trial0001', ' 000061', ' GVWY', ' 1832', ' 62', ' 29.548387', ' 47', ' 140', ' ']\n",
      "['trial0001', ' 000061', ' GVWY', ' 1858', ' 62', ' 29.967742', ' 67', ' 146', ' ']\n",
      "['trial0001', ' 000061', ' GVWY', ' 1871', ' 62', ' 30.177419', ' 47', ' 146', ' ']\n",
      "['trial0001', ' 000062', ' GVWY', ' 1871', ' 62', ' 30.177419', ' 34', ' 146', ' ']\n",
      "['trial0001', ' 000062', ' GVWY', ' 1891', ' 62', ' 30.500000', ' 27', ' 146', ' ']\n",
      "['trial0001', ' 000062', ' GVWY', ' 1911', ' 62', ' 30.822581', ' 27', ' 146', ' ']\n",
      "['trial0001', ' 000063', ' GVWY', ' 1917', ' 62', ' 30.919355', ' 60', ' 146', ' ']\n",
      "['trial0001', ' 000090', ' GVWY', ' 2017', ' 62', ' 32.532258', ' 186', ' N', ' ']\n",
      "['trial0001', ' 000090', ' GVWY', ' 2143', ' 62', ' 34.564516', ' 180', ' N', ' ']\n",
      "['trial0001', ' 000090', ' GVWY', ' 2216', ' 62', ' 35.741935', ' 140', ' N', ' ']\n",
      "['trial0001', ' 000090', ' GVWY', ' 2342', ' 62', ' 37.774194', ' 120', ' N', ' ']\n",
      "['trial0001', ' 000090', ' GVWY', ' 2382', ' 62', ' 38.419355', ' 87', ' N', ' ']\n",
      "['trial0001', ' 000090', ' GVWY', ' 2455', ' 62', ' 39.596774', ' 87', ' 127', ' ']\n",
      "['trial0001', ' 000090', ' GVWY', ' 2474', ' 62', ' 39.903226', ' 87', ' 160', ' ']\n",
      "['trial0001', ' 000090', ' GVWY', ' 2488', ' 62', ' 40.129032', ' 80', ' 153', ' ']\n",
      "['trial0001', ' 000090', ' GVWY', ' 2521', ' 62', ' 40.661290', ' 73', ' 113', ' ']\n",
      "['trial0001', ' 000090', ' GVWY', ' 2567', ' 62', ' 41.403226', ' 67', ' 113', ' ']\n",
      "['trial0001', ' 000090', ' GVWY', ' 2627', ' 62', ' 42.370968', ' 93', ' 133', ' ']\n",
      "['trial0001', ' 000090', ' GVWY', ' 2666', ' 62', ' 43.000000', ' 67', ' 133', ' ']\n",
      "['trial0001', ' 000091', ' GVWY', ' 2772', ' 62', ' 44.709677', ' 67', ' 133', ' ']\n",
      "['trial0001', ' 000091', ' GVWY', ' 2859', ' 62', ' 46.112903', ' 67', ' 133', ' ']\n",
      "['trial0001', ' 000091', ' GVWY', ' 2879', ' 62', ' 46.435484', ' 113', ' 146', ' ']\n",
      "['trial0001', ' 000091', ' GVWY', ' 2893', ' 62', ' 46.661290', ' 133', ' 153', ' ']\n",
      "['trial0001', ' 000091', ' GVWY', ' 2906', ' 62', ' 46.870968', ' 113', ' 153', ' ']\n",
      "['trial0001', ' 000091', ' GVWY', ' 2932', ' 62', ' 47.290323', ' 100', ' 153', ' ']\n",
      "['trial0001', ' 000091', ' GVWY', ' 3025', ' 62', ' 48.790323', ' 67', ' 153', ' ']\n",
      "['trial0001', ' 000091', ' GVWY', ' 3058', ' 62', ' 49.322581', ' 54', ' 153', ' ']\n",
      "['trial0001', ' 000092', ' GVWY', ' 3098', ' 62', ' 49.967742', ' 60', ' 160', ' ']\n",
      "['trial0001', ' 000092', ' GVWY', ' 3138', ' 62', ' 50.612903', ' 54', ' 160', ' ']\n",
      "['trial0001', ' 000120', ' GVWY', ' 3151', ' 62', ' 50.822581', ' 34', ' N', ' ']\n",
      "['trial0001', ' 000120', ' GVWY', ' 3244', ' 62', ' 52.322581', ' 80', ' 140', ' ']\n",
      "['trial0001', ' 000120', ' GVWY', ' 3244', ' 62', ' 52.322581', ' 80', ' 140', ' ']\n",
      "['trial0001', ' 000120', ' GVWY', ' 3317', ' 62', ' 53.500000', ' 40', ' 87', ' ']\n",
      "['trial0001', ' 000120', ' GVWY', ' 3390', ' 62', ' 54.677419', ' 40', ' 140', ' ']\n",
      "['trial0001', ' 000120', ' GVWY', ' 3430', ' 62', ' 55.322581', ' 40', ' 140', ' ']\n",
      "['trial0001', ' 000120', ' GVWY', ' 3430', ' 62', ' 55.322581', ' 40', ' 140', ' ']\n",
      "['trial0001', ' 000120', ' GVWY', ' 3450', ' 62', ' 55.645161', ' 34', ' 140', ' ']\n",
      "['trial0001', ' 000120', ' GVWY', ' 3490', ' 62', ' 56.290323', ' 34', ' 153', ' ']\n",
      "['trial0001', ' 000120', ' GVWY', ' 3590', ' 62', ' 57.903226', ' 34', ' 153', ' ']\n",
      "['trial0001', ' 000120', ' GVWY', ' 3623', ' 62', ' 58.435484', ' 34', ' 186', ' ']\n",
      "['trial0001', ' 000120', ' GVWY', ' 3749', ' 62', ' 60.467742', ' 34', ' 166', ' ']\n",
      "['trial0001', ' 000120', ' GVWY', ' 3788', ' 62', ' 61.096774', ' 87', ' 166', ' ']\n",
      "['trial0001', ' 000120', ' GVWY', ' 3828', ' 62', ' 61.741935', ' 54', ' 146', ' ']\n",
      "['trial0001', ' 000120', ' GVWY', ' 3868', ' 62', ' 62.387097', ' 34', ' 146', ' ']\n",
      "['trial0001', ' 000120', ' GVWY', ' 3922', ' 62', ' 63.258065', ' 34', ' 166', ' ']\n",
      "['trial0001', ' 000121', ' GVWY', ' 3942', ' 62', ' 63.580645', ' 34', ' 107', ' ']\n",
      "['trial0001', ' 000121', ' GVWY', ' 4008', ' 62', ' 64.645161', ' 67', ' 107', ' ']\n",
      "['trial0001', ' 000122', ' GVWY', ' 4034', ' 62', ' 65.064516', ' 67', ' 120', ' ']\n",
      "['trial0001', ' 000122', ' GVWY', ' 4080', ' 62', ' 65.806452', ' 67', ' 127', ' ']\n",
      "['trial0001', ' 000122', ' GVWY', ' 4080', ' 62', ' 65.806452', ' 67', ' 166', ' ']\n",
      "['trial0001', ' 000122', ' GVWY', ' 4146', ' 62', ' 66.870968', ' 60', ' 166', ' ']\n",
      "['trial0001', ' 000122', ' GVWY', ' 4146', ' 62', ' 66.870968', ' 34', ' 133', ' ']\n",
      "['trial0001', ' 000123', ' GVWY', ' 4186', ' 62', ' 67.516129', ' 107', ' 160', ' ']\n",
      "['trial0001', ' 000150', ' GVWY', ' 4219', ' 62', ' 68.048387', ' N', ' 153', ' ']\n",
      "['trial0001', ' 000150', ' GVWY', ' 4245', ' 62', ' 68.467742', ' N', ' 153', ' ']\n",
      "['trial0001', ' 000150', ' GVWY', ' 4298', ' 62', ' 69.322581', ' 14', ' 146', ' ']\n",
      "['trial0001', ' 000150', ' GVWY', ' 4371', ' 62', ' 70.500000', ' 14', ' 146', ' ']\n",
      "['trial0001', ' 000150', ' GVWY', ' 4437', ' 62', ' 71.564516', ' 20', ' 146', ' ']\n",
      "['trial0001', ' 000150', ' GVWY', ' 4556', ' 62', ' 73.483871', ' 20', ' 73', ' ']\n",
      "['trial0001', ' 000150', ' GVWY', ' 4676', ' 62', ' 75.419355', ' 20', ' 120', ' ']\n",
      "['trial0001', ' 000150', ' GVWY', ' 4702', ' 62', ' 75.838710', ' 20', ' 127', ' ']\n",
      "['trial0001', ' 000150', ' GVWY', ' 4702', ' 62', ' 75.838710', ' 20', ' 146', ' ']\n",
      "['trial0001', ' 000150', ' GVWY', ' 4741', ' 62', ' 76.467742', ' 20', ' 146', ' ']\n",
      "['trial0001', ' 000150', ' GVWY', ' 4748', ' 62', ' 76.580645', ' 20', ' 146', ' ']\n",
      "['trial0001', ' 000150', ' GVWY', ' 4848', ' 62', ' 78.193548', ' 20', ' 146', ' ']\n",
      "['trial0001', ' 000151', ' GVWY', ' 4875', ' 62', ' 78.629032', ' 80', ' 133', ' ']\n",
      "['trial0001', ' 000151', ' GVWY', ' 4942', ' 62', ' 79.709677', ' 80', ' 140', ' ']\n",
      "['trial0001', ' 000151', ' GVWY', ' 5002', ' 62', ' 80.677419', ' 47', ' 140', ' ']\n",
      "['trial0001', ' 000151', ' GVWY', ' 5075', ' 62', ' 81.854839', ' 67', ' 140', ' ']\n",
      "['trial0001', ' 000151', ' GVWY', ' 5095', ' 62', ' 82.177419', ' 67', ' 146', ' ']\n",
      "['trial0001', ' 000151', ' GVWY', ' 5148', ' 62', ' 83.032258', ' 60', ' 146', ' ']\n",
      "['trial0001', ' 000152', ' GVWY', ' 5182', ' 62', ' 83.580645', ' 60', ' 153', ' ']\n",
      "['trial0001', ' 000152', ' GVWY', ' 5215', ' 62', ' 84.112903', ' 60', ' 160', ' ']\n",
      "['trial0001', ' 000152', ' GVWY', ' 5215', ' 62', ' 84.112903', ' 60', ' 160', ' ']\n",
      "['trial0001', ' 000152', ' GVWY', ' 5215', ' 62', ' 84.112903', ' 54', ' 160', ' ']\n",
      "['trial0001', ' 000152', ' GVWY', ' 5221', ' 62', ' 84.209677', ' 54', ' 173', ' ']\n",
      "['trial0001', ' 000152', ' GVWY', ' 5228', ' 62', ' 84.322581', ' 47', ' 173', ' ']\n",
      "['trial0001', ' 000180', ' GVWY', ' 5228', ' 62', ' 84.322581', ' 47', ' 107', ' ']\n"
     ]
    }
   ],
   "source": [
    "avg_balance = []\n",
    "\n",
    "with open('avg_balance.csv') as csv_file:\n",
    "    readCSV = csv.reader(csv_file, delimiter=',')\n",
    "    for row in readCSV:\n",
    "        print(row)\n"
   ]
  },
  {
   "cell_type": "code",
   "execution_count": 60,
   "metadata": {},
   "outputs": [
    {
     "name": "stdout",
     "output_type": "stream",
     "text": [
      "3\n"
     ]
    }
   ],
   "source": [
    "import random\n",
    "i, j = random.sample(list([1, 2, 3, 4, 5, 6]), 2)\n",
    "print(j)"
   ]
  },
  {
   "cell_type": "code",
   "execution_count": null,
   "metadata": {
    "collapsed": true
   },
   "outputs": [],
   "source": []
  },
  {
   "cell_type": "code",
   "execution_count": null,
   "metadata": {
    "collapsed": true
   },
   "outputs": [],
   "source": []
  }
 ],
 "metadata": {
  "kernelspec": {
   "display_name": "Python 3",
   "language": "python",
   "name": "python3"
  },
  "language_info": {
   "codemirror_mode": {
    "name": "ipython",
    "version": 3
   },
   "file_extension": ".py",
   "mimetype": "text/x-python",
   "name": "python",
   "nbconvert_exporter": "python",
   "pygments_lexer": "ipython3",
   "version": "3.6.10"
  }
 },
 "nbformat": 4,
 "nbformat_minor": 2
}
