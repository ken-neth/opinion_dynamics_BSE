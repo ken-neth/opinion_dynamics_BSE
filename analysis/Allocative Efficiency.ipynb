{
 "cells": [
  {
   "cell_type": "markdown",
   "metadata": {},
   "source": [
    "# Allocative Efficiency\n",
    "\n",
    "range1 = (10, 190)\n",
    "\n",
    "supply_schedule = [ {'from':start_time, 'to':end_time, 'ranges':[range1], 'stepmode':'fixed'}]\n",
    "\n",
    "range1 = (10, 190)\n",
    "\n",
    "demand_schedule = [ {'from':start_time, 'to':end_time, 'ranges':[range1], 'stepmode':'fixed'}]\n",
    "\n",
    "order_sched = {'sup':supply_schedule, 'dem':demand_schedule, 'interval':30, 'timemode':'periodic'}"
   ]
  },
  {
   "cell_type": "code",
   "execution_count": 1,
   "metadata": {
    "collapsed": true
   },
   "outputs": [],
   "source": [
    "import csv\n",
    "import matplotlib.pyplot as plt\n",
    "import numpy as np\n",
    "from scipy.integrate import simps"
   ]
  },
  {
   "cell_type": "code",
   "execution_count": 2,
   "metadata": {
    "collapsed": true
   },
   "outputs": [],
   "source": [
    "bids = []\n",
    "asks = []\n",
    "\n",
    "with open('/Users/kennethlomas/Desktop/BristolStockExchange-master/csv_files/lob.csv') as csv_file:\n",
    "    readCSV = csv.reader(csv_file, delimiter=',')\n",
    "    for row in readCSV:\n",
    "        for quote in row:\n",
    "            if quote[:3] == 'Bid':\n",
    "                bids.append(float(quote[4:]))\n",
    "            elif quote[:3] == 'Ask':\n",
    "                asks.append(float(quote[4:]))"
   ]
  },
  {
   "cell_type": "code",
   "execution_count": 4,
   "metadata": {},
   "outputs": [
    {
     "ename": "ValueError",
     "evalue": "max() arg is an empty sequence",
     "output_type": "error",
     "traceback": [
      "\u001b[0;31m---------------------------------------------------------------------------\u001b[0m",
      "\u001b[0;31mValueError\u001b[0m                                Traceback (most recent call last)",
      "\u001b[0;32m<ipython-input-4-72fbdbb55fe2>\u001b[0m in \u001b[0;36m<module>\u001b[0;34m()\u001b[0m\n\u001b[0;32m----> 1\u001b[0;31m \u001b[0msupply_prices\u001b[0m \u001b[0;34m=\u001b[0m \u001b[0mnp\u001b[0m\u001b[0;34m.\u001b[0m\u001b[0marange\u001b[0m\u001b[0;34m(\u001b[0m\u001b[0;36m0\u001b[0m\u001b[0;34m,\u001b[0m \u001b[0mmax\u001b[0m\u001b[0;34m(\u001b[0m\u001b[0masks\u001b[0m\u001b[0;34m)\u001b[0m\u001b[0;34m)\u001b[0m\u001b[0;34m\u001b[0m\u001b[0;34m\u001b[0m\u001b[0m\n\u001b[0m\u001b[1;32m      2\u001b[0m \u001b[0mdemand_prices\u001b[0m \u001b[0;34m=\u001b[0m \u001b[0mnp\u001b[0m\u001b[0;34m.\u001b[0m\u001b[0marange\u001b[0m\u001b[0;34m(\u001b[0m\u001b[0;36m0\u001b[0m\u001b[0;34m,\u001b[0m \u001b[0mmax\u001b[0m\u001b[0;34m(\u001b[0m\u001b[0masks\u001b[0m\u001b[0;34m)\u001b[0m\u001b[0;34m)\u001b[0m\u001b[0;34m\u001b[0m\u001b[0;34m\u001b[0m\u001b[0m\n\u001b[1;32m      3\u001b[0m \u001b[0msupply\u001b[0m \u001b[0;34m=\u001b[0m \u001b[0;34m[\u001b[0m\u001b[0;34m]\u001b[0m\u001b[0;34m\u001b[0m\u001b[0;34m\u001b[0m\u001b[0m\n\u001b[1;32m      4\u001b[0m \u001b[0mdemand\u001b[0m \u001b[0;34m=\u001b[0m \u001b[0;34m[\u001b[0m\u001b[0;34m]\u001b[0m\u001b[0;34m\u001b[0m\u001b[0;34m\u001b[0m\u001b[0m\n\u001b[1;32m      5\u001b[0m \u001b[0;34m\u001b[0m\u001b[0m\n",
      "\u001b[0;31mValueError\u001b[0m: max() arg is an empty sequence"
     ]
    }
   ],
   "source": [
    "supply_prices = np.arange(0, max(asks))\n",
    "demand_prices = np.arange(0, max(asks))\n",
    "supply = []\n",
    "demand = []\n",
    "\n",
    "for price in supply_prices:\n",
    "    quantity = 0\n",
    "    for ask in asks:\n",
    "        if ask <= price:\n",
    "            quantity += 1\n",
    "    if quantity == 0:\n",
    "        supply.append(np.nan)\n",
    "    else:\n",
    "        supply.append(quantity)\n",
    "        \n",
    "    \n",
    "for price in demand_prices:    \n",
    "    quantity = 0\n",
    "    for bid in bids:\n",
    "        if bid >= price:\n",
    "            quantity += 1\n",
    "    if quantity == 0:\n",
    "        demand.append(np.nan)\n",
    "    else:\n",
    "        demand.append(quantity)\n",
    "    \n",
    "plt.figure(1, figsize=(10,10)) \n",
    "\n",
    "plt.plot(supply, supply_prices, label='supply') \n",
    "\n",
    "plt.plot(demand, demand_prices, label='demand')\n",
    "\n",
    "plt.title(\"Supply and Demand curves\", fontsize=20)\n",
    "plt.xlabel(\"Quantity\", fontsize=20)\n",
    "plt.ylabel(\"Price\", fontsize=20)\n",
    "# plt.ylim(ymin=0, ymax=200)\n",
    "# plt.xlim(xmin=0, xmax=200)\n",
    "\n",
    "#  find equilibrium\n",
    "\n",
    "# pointer = 0\n",
    "# threshold = 5\n",
    "best = 0\n",
    "\n",
    "# while abs(supply[pointer] - demand[pointer]) > threshold :\n",
    "\n",
    "for pointer in range(min(len(supply), len(demand))):\n",
    "    \n",
    "    if (not supply[pointer] is np.nan) and (not demand[pointer] is np.nan):\n",
    "        if best == 0:\n",
    "            best = pointer\n",
    "        \n",
    "        if abs(supply[pointer] - demand[pointer]) < abs(supply[best] - demand[best]):\n",
    "            best = pointer\n",
    "    \n",
    "#     pointer += 1\n",
    "    \n",
    "#     if pointer > len(supply) or pointer > len(demand):\n",
    "#         print(\"unable to find points within range\")\n",
    "#         break\n",
    "        \n",
    "\n",
    "print(best, supply[best], demand[best], supply_prices[best], demand_prices[best])\n",
    "\n",
    "plt.scatter(supply[best], supply_prices[best], marker = 'x', c='red', s=500, label='equilibirum')\n",
    "\n",
    "plt.axvline(x=supply[best], linestyle='--', ymax=(supply_prices[best]/max(asks)), c='red')\n",
    "plt.axhline(y=supply_prices[best], linestyle='--', xmax=supply[best]/3000, c='red')\n",
    "\n",
    "plt.legend(prop={'size': 20})\n",
    "plt.show()"
   ]
  },
  {
   "cell_type": "code",
   "execution_count": 333,
   "metadata": {},
   "outputs": [
    {
     "name": "stdout",
     "output_type": "stream",
     "text": [
      "Trapz consumer surplus:  1173.0\n",
      "Simps consumer surplus:  1173.33333333\n",
      "Trapz producer surplus:  1241.0\n",
      "Simps producer surplus:  1241.0\n",
      "Maximum total profit:  2414.33333333\n",
      "Total profit earned:  4433.0\n",
      "Allocative efficiency:  183.611763082\n"
     ]
    }
   ],
   "source": [
    "ys = np.array(demand[best:])\n",
    "ys = [y for y in ys if str(y) != 'nan']\n",
    "consumer_surplus = np.trapz(ys, dx=1)\n",
    "print(\"Trapz consumer surplus: \", consumer_surplus)\n",
    "consumer_surplus = simps(ys, dx=1)\n",
    "print(\"Simps consumer surplus: \", consumer_surplus)\n",
    "\n",
    "\n",
    "ys = np.array(supply[:best])\n",
    "ys = [y for y in ys if str(y) != 'nan']\n",
    "producer_surplus = np.trapz(ys, dx=1)\n",
    "print(\"Trapz producer surplus: \", producer_surplus)\n",
    "producer_surplus = simps(ys, dx=1)\n",
    "print(\"Simps producer surplus: \", producer_surplus)\n",
    "\n",
    "\n",
    "print(\"Maximum total profit: \", producer_surplus + consumer_surplus)\n",
    "\n",
    "started = 0\n",
    "start_balance = 0\n",
    "end_balance = 0\n",
    "with open('avg_balance.csv') as csv_file:\n",
    "    readCSV = csv.reader(csv_file, delimiter=',')\n",
    "    for row in readCSV:\n",
    "        if not started:\n",
    "            start_balance = float(row[3])\n",
    "            started = 1 \n",
    "        end_balance = float(row[3])\n",
    "\n",
    "total_profit = end_balance - start_balance\n",
    "print(\"Total profit earned: \", total_profit)\n",
    "\n",
    "allocative_efficiency = (total_profit / (producer_surplus + consumer_surplus)) * 100\n",
    "\n",
    "print(\"Allocative efficiency: \", allocative_efficiency)"
   ]
  },
  {
   "cell_type": "code",
   "execution_count": 1,
   "metadata": {},
   "outputs": [
    {
     "ename": "NameError",
     "evalue": "name 'csv' is not defined",
     "output_type": "error",
     "traceback": [
      "\u001b[0;31m---------------------------------------------------------------------------\u001b[0m",
      "\u001b[0;31mNameError\u001b[0m                                 Traceback (most recent call last)",
      "\u001b[0;32m<ipython-input-1-fd8769c56d47>\u001b[0m in \u001b[0;36m<module>\u001b[0;34m()\u001b[0m\n\u001b[1;32m      3\u001b[0m \u001b[0;34m\u001b[0m\u001b[0m\n\u001b[1;32m      4\u001b[0m \u001b[0;32mwith\u001b[0m \u001b[0mopen\u001b[0m\u001b[0;34m(\u001b[0m\u001b[0;34m'/Users/kennethlomas/Desktop/BristolStockExchange-master/csv_files/lob.csv'\u001b[0m\u001b[0;34m)\u001b[0m \u001b[0;32mas\u001b[0m \u001b[0mcsv_file\u001b[0m\u001b[0;34m:\u001b[0m\u001b[0;34m\u001b[0m\u001b[0;34m\u001b[0m\u001b[0m\n\u001b[0;32m----> 5\u001b[0;31m     \u001b[0mreadCSV\u001b[0m \u001b[0;34m=\u001b[0m \u001b[0mcsv\u001b[0m\u001b[0;34m.\u001b[0m\u001b[0mreader\u001b[0m\u001b[0;34m(\u001b[0m\u001b[0mcsv_file\u001b[0m\u001b[0;34m,\u001b[0m \u001b[0mdelimiter\u001b[0m\u001b[0;34m=\u001b[0m\u001b[0;34m','\u001b[0m\u001b[0;34m)\u001b[0m\u001b[0;34m\u001b[0m\u001b[0;34m\u001b[0m\u001b[0m\n\u001b[0m\u001b[1;32m      6\u001b[0m     \u001b[0;32mfor\u001b[0m \u001b[0mrow\u001b[0m \u001b[0;32min\u001b[0m \u001b[0mreadCSV\u001b[0m\u001b[0;34m:\u001b[0m\u001b[0;34m\u001b[0m\u001b[0;34m\u001b[0m\u001b[0m\n\u001b[1;32m      7\u001b[0m \u001b[0;34m\u001b[0m\u001b[0m\n",
      "\u001b[0;31mNameError\u001b[0m: name 'csv' is not defined"
     ]
    }
   ],
   "source": [
    "bids = []\n",
    "asks = []\n",
    "\n",
    "with open('/Users/kennethlomas/Desktop/BristolStockExchange-master/csv_files/lob.csv') as csv_file:\n",
    "    readCSV = csv.reader(csv_file, delimiter=',')\n",
    "    for row in readCSV:\n",
    "        \n",
    "        index = 1\n",
    "        dump = 0\n",
    "        while index < len(row)-1:\n",
    "            if row[index] == 'BID_lob':\n",
    "                dump = 0\n",
    "                index += 1\n",
    "            if row[index] == 'ASK_lob':\n",
    "                dump = 1\n",
    "                index += 1\n",
    "            else:\n",
    "                if dump == 0:\n",
    "                    bids.append([float(row[index]), float(row[index+1])])\n",
    "                    index += 2\n",
    "#                         max_price = max(float(row[index]), max_price)\n",
    "                elif dump == 1:\n",
    "                    asks.append([float(row[index]), float(row[index+1])])\n",
    "                    index += 2\n",
    "#                         max_price = max(float(row[index]), max_price)\n",
    "            \n",
    "            \n",
    "print(bids, '\\n')\n",
    "print(asks, '\\n')"
   ]
  },
  {
   "cell_type": "code",
   "execution_count": 240,
   "metadata": {},
   "outputs": [
    {
     "ename": "TypeError",
     "evalue": "'float' object is not subscriptable",
     "output_type": "error",
     "traceback": [
      "\u001b[0;31m---------------------------------------------------------------------------\u001b[0m",
      "\u001b[0;31mTypeError\u001b[0m                                 Traceback (most recent call last)",
      "\u001b[0;32m<ipython-input-240-beefedc16f56>\u001b[0m in \u001b[0;36m<module>\u001b[0;34m()\u001b[0m\n\u001b[1;32m      2\u001b[0m \u001b[0mminask\u001b[0m \u001b[0;34m=\u001b[0m \u001b[0;36m1000\u001b[0m\u001b[0;34m\u001b[0m\u001b[0;34m\u001b[0m\u001b[0m\n\u001b[1;32m      3\u001b[0m \u001b[0;32mfor\u001b[0m \u001b[0mask\u001b[0m \u001b[0;32min\u001b[0m \u001b[0masks\u001b[0m\u001b[0;34m:\u001b[0m\u001b[0;34m\u001b[0m\u001b[0;34m\u001b[0m\u001b[0m\n\u001b[0;32m----> 4\u001b[0;31m     \u001b[0mmaxask\u001b[0m\u001b[0;34m=\u001b[0m\u001b[0mmax\u001b[0m\u001b[0;34m(\u001b[0m\u001b[0mask\u001b[0m\u001b[0;34m[\u001b[0m\u001b[0;36m0\u001b[0m\u001b[0;34m]\u001b[0m\u001b[0;34m,\u001b[0m \u001b[0mmaxask\u001b[0m\u001b[0;34m)\u001b[0m\u001b[0;34m\u001b[0m\u001b[0;34m\u001b[0m\u001b[0m\n\u001b[0m\u001b[1;32m      5\u001b[0m     \u001b[0mminask\u001b[0m\u001b[0;34m=\u001b[0m\u001b[0mmin\u001b[0m\u001b[0;34m(\u001b[0m\u001b[0mask\u001b[0m\u001b[0;34m[\u001b[0m\u001b[0;36m0\u001b[0m\u001b[0;34m]\u001b[0m\u001b[0;34m,\u001b[0m \u001b[0mminask\u001b[0m\u001b[0;34m)\u001b[0m\u001b[0;34m\u001b[0m\u001b[0;34m\u001b[0m\u001b[0m\n\u001b[1;32m      6\u001b[0m \u001b[0mprint\u001b[0m\u001b[0;34m(\u001b[0m\u001b[0mminask\u001b[0m\u001b[0;34m,\u001b[0m \u001b[0mmaxask\u001b[0m\u001b[0;34m)\u001b[0m\u001b[0;34m\u001b[0m\u001b[0;34m\u001b[0m\u001b[0m\n",
      "\u001b[0;31mTypeError\u001b[0m: 'float' object is not subscriptable"
     ]
    }
   ],
   "source": [
    "maxask = 0\n",
    "minask = 1000\n",
    "for ask in asks:\n",
    "    maxask=max(ask[0], maxask)\n",
    "    minask=min(ask[0], minask)\n",
    "print(minask, maxask)\n",
    "maxbid = 0\n",
    "minbid = 1000\n",
    "for bid in bids:\n",
    "    maxbid=max(bid[0], maxbid)\n",
    "    minbid=min(bid[0], minbid)\n",
    "print(minbid, maxbid)\n",
    "\n",
    "supply_prices = np.arange(0, maxask)\n",
    "demand_prices = np.arange(0, maxbid)\n",
    "supply = []\n",
    "demand = []\n",
    "\n",
    "for price in supply_prices:\n",
    "    quantity = 0\n",
    "    for ask in asks:\n",
    "        if ask[0] <= price:\n",
    "            quantity += ask[1]\n",
    "    supply.append(quantity)\n",
    "    \n",
    "for price in demand_prices:    \n",
    "    quantity = 0\n",
    "    for bid in bids:\n",
    "        if bid[0] >= price:\n",
    "            quantity += bid[1]\n",
    "    demand.append(quantity)\n",
    "    \n",
    "plt.figure(1, figsize=(10,10))                \n",
    "plt.plot(supply, supply_prices, label='supply') \n",
    "plt.plot(demand, demand_prices, label='demand')\n",
    "plt.legend(prop={'size': 20})\n",
    "plt.title(\"Supply and Demand curves\", fontsize=20)\n",
    "plt.xlabel(\"Quantity\", fontsize=20)\n",
    "plt.ylabel(\"Price\", fontsize=20)\n",
    "plt.ylim(ymin=0, ymax=200)\n",
    "plt.xlim(xmin=0, xmax=200)\n",
    "plt.show()"
   ]
  },
  {
   "cell_type": "code",
   "execution_count": 206,
   "metadata": {},
   "outputs": [
    {
     "data": {
      "text/plain": [
       "[3]"
      ]
     },
     "execution_count": 206,
     "metadata": {},
     "output_type": "execute_result"
    }
   ],
   "source": [
    "test = [1,2,3]\n",
    "test[2:]"
   ]
  },
  {
   "cell_type": "markdown",
   "metadata": {
    "collapsed": true
   },
   "source": [
    "| model_name  | Model name | Parameters | Description\n",
    "| :--|:--|:--|:--|\n",
    "| \"BC\" | Bounded Confidence| ```delta```, ```mu```|If opinions differ by less than deviation threshold (```delta```) update opinions using confidence factor (```mu```) |\n",
    "| \"RA\" | Relative Agreement| ```mu```|If uncertainties overlap enough, update opinions and uncertainties using confidence factor(```mu```) |\n",
    "| \"RD\" | Relative Disagreement|```mu```, ```lambda``` |If uncertainties non overlap is great enough and wi, update opinions and uncertainties using confidence factor(```mu```) |"
   ]
  },
  {
   "cell_type": "code",
   "execution_count": null,
   "metadata": {
    "collapsed": true
   },
   "outputs": [],
   "source": []
  }
 ],
 "metadata": {
  "kernelspec": {
   "display_name": "Python 3",
   "language": "python",
   "name": "python3"
  },
  "language_info": {
   "codemirror_mode": {
    "name": "ipython",
    "version": 3
   },
   "file_extension": ".py",
   "mimetype": "text/x-python",
   "name": "python",
   "nbconvert_exporter": "python",
   "pygments_lexer": "ipython3",
   "version": "3.6.10"
  }
 },
 "nbformat": 4,
 "nbformat_minor": 2
}
