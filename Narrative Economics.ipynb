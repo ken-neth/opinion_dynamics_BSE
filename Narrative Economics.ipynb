{
 "cells": [
  {
   "cell_type": "markdown",
   "metadata": {},
   "source": [
    "# Narrative Economics\n",
    "\n",
    "Here I'm running the Kermack-McKendrick SIR epidemic model."
   ]
  },
  {
   "cell_type": "code",
   "execution_count": 12,
   "metadata": {
    "collapsed": true
   },
   "outputs": [],
   "source": [
    "from matplotlib.pyplot import *"
   ]
  },
  {
   "cell_type": "code",
   "execution_count": 79,
   "metadata": {},
   "outputs": [
    {
     "name": "stdout",
     "output_type": "stream",
     "text": [
      "RESULTS time t=1\n",
      "S: 100.00 - 0.50 * 100.00 * 0.00 = 100.00\n",
      "I: 0.00 + 0.50 * 100.00 * 0.00 - 0.05 * 0.00 = 0.01\n",
      "R: 0.00 + 0.05 * 0.00 = 0.00\n",
      "RESULTS time t=2\n",
      "S: 100.00 - 0.50 * 100.00 * 0.01 = 100.00\n",
      "I: 0.01 + 0.50 * 100.00 * 0.01 - 0.05 * 0.01 = 0.26\n",
      "R: 0.00 + 0.05 * 0.01 = 0.00\n",
      "RESULTS time t=3\n",
      "S: 100.00 - 0.50 * 100.00 * 0.26 = 99.87\n",
      "I: 0.26 + 0.50 * 100.00 * 0.26 - 0.05 * 0.26 = 13.23\n",
      "R: 0.00 + 0.05 * 0.26 = 0.01\n",
      "RESULTS time t=4\n",
      "S: 99.87 - 0.50 * 99.87 * 13.23 = 93.26\n",
      "I: 13.23 + 0.50 * 99.87 * 13.23 - 0.05 * 13.23 = 672.98\n",
      "R: 0.01 + 0.05 * 13.23 = 0.67\n"
     ]
    }
   ],
   "source": [
    "# time\n",
    "T = 5\n",
    "time = [0]\n",
    "# population size\n",
    "N = 100\n",
    "# I as percentage 0.0001%\n",
    "I = [0.0001]\n",
    "S = [(N - I[0])]\n",
    "R = [0]\n",
    "\n",
    "# contagion rate\n",
    "c = 0.5\n",
    "# recovery rate\n",
    "r = 0.05\n",
    "\n",
    "def S_update(c, S, I): return (-c * S * I)\n",
    "def I_update(c, r, S, I): return ((c * S * I) - (r * I))\n",
    "def R_update(r, I): return (r * I)\n",
    "\n",
    "for i in range(1,T):\n",
    "    curr_s = S[-1]\n",
    "    curr_i = I[-1]\n",
    "    curr_r = R[-1]\n",
    "    \n",
    "    print(\"RESULTS time t=%d\" % i)\n",
    "    S.append((curr_s/100 + S_update(c, curr_s/100, curr_i/100))*100)\n",
    "    print(\"S: %.2f - %.2f * %.2f * %.2f = %.2f\" %( curr_s, c, curr_s, curr_i, S[-1]))\n",
    "    I.append((curr_i/100 + I_update(c, r, curr_s/100, curr_i/100))*100)\n",
    "    print(\"I: %.2f + %.2f * %.2f * %.2f - %.2f * %.2f = %.2f\" %( curr_i, c, curr_s, curr_i, r, curr_i, I[-1]))\n",
    "    R.append(curr_r + R_update(r, curr_i))\n",
    "    print(\"R: %.2f + %.2f * %.2f = %.2f\" %( curr_r, r, curr_i, R[-1]))\n",
    "    \n",
    "    time.append(i)"
   ]
  },
  {
   "cell_type": "code",
   "execution_count": 58,
   "metadata": {},
   "outputs": [
    {
     "data": {
      "image/png": "[encoded data removed]",
      "text/plain": [
       "<matplotlib.figure.Figure at 0x10fc95f28>"
      ]
     },
     "metadata": {},
     "output_type": "display_data"
    }
   ],
   "source": [
    "figure()\n",
    "xlabel('Time',fontsize=20)\n",
    "ylabel('Percent',fontsize=20)\n",
    "title(\"Kermack-McKendrick SIR model\", fontsize=20)\n",
    "plot(time, S, 'red')\n",
    "# plot(time, I, 'blue')\n",
    "# plot(time, R, 'green')\n",
    "ylim(ymin=0, ymax=100)\n",
    "xlim(xmin=0, xmax=100)\n",
    "show()"
   ]
  },
  {
   "cell_type": "code",
   "execution_count": 59,
   "metadata": {},
   "outputs": [
    {
     "name": "stdout",
     "output_type": "stream",
     "text": [
      "[99.9999, 99.99490000499999, 99.98990025999974, 99.98490076498675, 99.9799015199485, 99.9749025248725, 99.96990377974626, 99.96490528455728, 99.95990703929304, 99.95490904394107, 99.94991129848887, 99.94491380292395, 99.9399165572338, 99.93491956140593, 99.92992281542786, 99.92492631928708, 99.91993007297111, 99.91493407646746, 99.90993832976363, 99.90494283284714, 99.8999475857055, 99.89495258832622, 99.88995784069681, 99.88496334280478, 99.87996909463764, 99.87497509618291, 99.8699813474281, 99.86498784836073, 99.85999459896831, 99.85500159923836, 99.8500088491584, 99.84501634871594, 99.8400240978985, 99.83503209669361, 99.83004034508878, 99.82504884307153, 99.82005759062937, 99.81506658774984, 99.81007583442046, 99.80508533062874, 99.80009507636221, 99.79510507160839, 99.79011531635481, 99.785125810589, 99.78013655429847, 99.77514754747075, 99.77015879009338, 99.76517028215387, 99.76018202363977, 99.75519401453859, 99.75020625483786, 99.74521874452512, 99.74023148358789, 99.73524447201372, 99.73025770979012, 99.72527119690463, 99.72028493334479, 99.71529891909812, 99.71031315415216, 99.70532763849445, 99.70034237211253, 99.69535735499393, 99.69037258712618, 99.68538806849682, 99.6804037990934, 99.67541977890345, 99.6704360079145, 99.6654524861141, 99.6604692134898, 99.65548619002912, 99.65050341571963, 99.64552089054884, 99.64053861450431, 99.63555658757359, 99.6305748097442, 99.62559328100372, 99.62061200133967, 99.6156309707396, 99.61065018919106, 99.6056696566816, 99.60068937319876, 99.5957093387301, 99.59072955326316, 99.5857500167855, 99.58077072928465, 99.57579169074819, 99.57081290116365, 99.5658343605186, 99.56085606880056, 99.55587802599712, 99.55090023209581, 99.54592268708421, 99.54094539094986, 99.53596834368031, 99.53099154526312, 99.52601499568586, 99.52103869493607, 99.51606264300132, 99.51108683986917, 99.50611128552717] [0.0001] [0]\n"
     ]
    }
   ],
   "source": [
    "print(S, I, R)"
   ]
  },
  {
   "cell_type": "code",
   "execution_count": null,
   "metadata": {
    "collapsed": true
   },
   "outputs": [],
   "source": []
  }
 ],
 "metadata": {
  "kernelspec": {
   "display_name": "Python 3",
   "language": "python",
   "name": "python3"
  },
  "language_info": {
   "codemirror_mode": {
    "name": "ipython",
    "version": 3
   },
   "file_extension": ".py",
   "mimetype": "text/x-python",
   "name": "python",
   "nbconvert_exporter": "python",
   "pygments_lexer": "ipython3",
   "version": "3.6.10"
  }
 },
 "nbformat": 4,
 "nbformat_minor": 2
}
